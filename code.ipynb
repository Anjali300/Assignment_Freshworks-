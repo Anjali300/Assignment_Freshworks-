{
  "nbformat": 4,
  "nbformat_minor": 0,
  "metadata": {
    "colab": {
      "name": "code.ipynb",
      "provenance": []
    },
    "kernelspec": {
      "name": "python3",
      "display_name": "Python 3"
    }
  },
  "cells": [
    {
      "cell_type": "code",
      "metadata": {
        "id": "ek-LN92usD1q"
      },
      "source": [
        "import threading \r\n",
        "#this is for python 3.0 and above. use import thread for python2.0 versions\r\n",
        "from threading import*\r\n",
        "import time"
      ],
      "execution_count": 2,
      "outputs": []
    },
    {
      "cell_type": "code",
      "metadata": {
        "id": "X0bKdz2MsFhf"
      },
      "source": [
        "d={} #'d' is the dictionary in which we store data"
      ],
      "execution_count": 3,
      "outputs": []
    },
    {
      "cell_type": "code",
      "metadata": {
        "id": "h9dIWLx-sMiu"
      },
      "source": [
        "#for create operation \r\n",
        "#use syntax \"create(key_name,value,timeout_value)\" timeout is optional you can continue by passing two arguments without timeout\r\n",
        "\r\n",
        "def create(key,value,timeout=0):\r\n",
        "    if key in d:\r\n",
        "        print(\"error: this key already exists\") #error message1\r\n",
        "    else:\r\n",
        "        if(key.isalpha()):\r\n",
        "            if len(d)<(1024*1020*1024) and value<=(16*1024*1024): #constraints for file size less than 1GB and Jasonobject value less than 16KB \r\n",
        "                if timeout==0:\r\n",
        "                    l=[value,timeout]\r\n",
        "                else:\r\n",
        "                    l=[value,time.time()+timeout]\r\n",
        "                if len(key)<=32: #constraints for input key_name capped at 32chars\r\n",
        "                    d[key]=l\r\n",
        "            else:\r\n",
        "                print(\"error: Memory limit exceeded!! \")#error message2\r\n",
        "        else:\r\n",
        "            print(\"error: Invalind key_name!! key_name must contain only alphabets and no special characters or numbers\")#error message3"
      ],
      "execution_count": 4,
      "outputs": []
    },
    {
      "cell_type": "code",
      "metadata": {
        "id": "5alcFiJwsSEx"
      },
      "source": [
        "#for read operation\r\n",
        "#use syntax \"read(key_name)\"\r\n",
        "            \r\n",
        "def read(key):\r\n",
        "    if key not in d:\r\n",
        "        print(\"error: given key does not exist in database. Please enter a valid key\") #error message4\r\n",
        "    else:\r\n",
        "        b=d[key]\r\n",
        "        if b[1]!=0:\r\n",
        "            if time.time()<b[1]: #comparing the present time with expiry time\r\n",
        "                stri=str(key)+\":\"+str(b[0]) #to return the value in the format of JasonObject i.e.,\"key_name:value\"\r\n",
        "                return stri\r\n",
        "            else:\r\n",
        "                print(\"error: time-to-live of\",key,\"has expired\") #error message5\r\n",
        "        else:\r\n",
        "            stri=str(key)+\":\"+str(b[0])\r\n",
        "            return stri"
      ],
      "execution_count": 5,
      "outputs": []
    },
    {
      "cell_type": "code",
      "metadata": {
        "id": "_GtBcgF1sVXx"
      },
      "source": [
        "#for delete operation\r\n",
        "#use syntax \"delete(key_name)\"\r\n",
        "\r\n",
        "def delete(key):\r\n",
        "    if key not in d:\r\n",
        "        print(\"error: given key does not exist in database. Please enter a valid key\") #error message4\r\n",
        "    else:\r\n",
        "        b=d[key]\r\n",
        "        if b[1]!=0:\r\n",
        "            if time.time()<b[1]: #comparing the current time with expiry time\r\n",
        "                del d[key]\r\n",
        "                print(\"key is successfully deleted\")\r\n",
        "            else:\r\n",
        "                print(\"error: time-to-live of\",key,\"has expired\") #error message5\r\n",
        "        else:\r\n",
        "            del d[key]\r\n",
        "            print(\"key is successfully deleted\")"
      ],
      "execution_count": 6,
      "outputs": []
    },
    {
      "cell_type": "code",
      "metadata": {
        "id": "GTxbfn_hsYox"
      },
      "source": [
        "#for modify operation \r\n",
        "#use syntax \"modify(key_name,new_value)\"\r\n",
        "\r\n",
        "def modify(key,value):\r\n",
        "    b=d[key]\r\n",
        "    if b[1]!=0:\r\n",
        "        if time.time()<b[1]:\r\n",
        "            if key not in d:\r\n",
        "                print(\"error: given key does not exist in database. Please enter a valid key\") #error message6\r\n",
        "            else:\r\n",
        "                l=[]\r\n",
        "                l.append(value)\r\n",
        "                l.append(b[1])\r\n",
        "                d[key]=l\r\n",
        "        else:\r\n",
        "            print(\"error: time-to-live of\",key,\"has expired\") #error message5\r\n",
        "    else:\r\n",
        "        if key not in d:\r\n",
        "            print(\"error: given key does not exist in database. Please enter a valid key\") #error message6\r\n",
        "        else:\r\n",
        "            l=[]\r\n",
        "            l.append(value)\r\n",
        "            l.append(b[1])\r\n",
        "            d[key]=l"
      ],
      "execution_count": 7,
      "outputs": []
    },
    {
      "cell_type": "code",
      "metadata": {
        "id": "KaF3Q05WALGT"
      },
      "source": [
        ""
      ],
      "execution_count": null,
      "outputs": []
    }
  ]
}