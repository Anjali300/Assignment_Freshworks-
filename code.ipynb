{
  "nbformat": 4,
  "nbformat_minor": 0,
  "metadata": {
    "colab": {
      "name": "code.ipynb",
      "provenance": []
    },
    "kernelspec": {
      "name": "python3",
      "display_name": "Python 3"
    }
  },
  "cells": [
    {
      "cell_type": "code",
      "metadata": {
        "id": "ek-LN92usD1q"
      },
      "source": [
        "import threading \r\n",
        "#this is for python 3.0 and above. use import thread for python2.0 versions\r\n",
        "from threading import*\r\n",
        "import time"
      ],
      "execution_count": 31,
      "outputs": []
    },
    {
      "cell_type": "code",
      "metadata": {
        "id": "X0bKdz2MsFhf"
      },
      "source": [
        "d={} #'d' is the dictionary in which we store data"
      ],
      "execution_count": 32,
      "outputs": []
    },
    {
      "cell_type": "code",
      "metadata": {
        "id": "h9dIWLx-sMiu"
      },
      "source": [
        "#for create operation \r\n",
        "#use syntax \"create(key_name,value,timeout_value)\" timeout is optional you can continue by passing two arguments without timeout\r\n",
        "\r\n",
        "def create(key,value,timeout=0):\r\n",
        "    if key in d:\r\n",
        "        print(\"error: this key already exists\") #error message1\r\n",
        "    else:\r\n",
        "        if(key.isalpha()):\r\n",
        "            if len(d)<(1024*1020*1024) and value<=(16*1024*1024): #constraints for file size less than 1GB and Jasonobject value less than 16KB \r\n",
        "                if timeout==0:\r\n",
        "                    l=[value,timeout]\r\n",
        "                else:\r\n",
        "                    l=[value,time.time()+timeout]\r\n",
        "                if len(key)<=32: #constraints for input key_name capped at 32chars\r\n",
        "                    d[key]=l\r\n",
        "            else:\r\n",
        "                print(\"error: Memory limit exceeded!! \")#error message2\r\n",
        "        else:\r\n",
        "            print(\"error: Invalind key_name!! key_name must contain only alphabets and no special characters or numbers\")#error message3"
      ],
      "execution_count": 33,
      "outputs": []
    },
    {
      "cell_type": "code",
      "metadata": {
        "id": "5alcFiJwsSEx"
      },
      "source": [
        "#for read operation\r\n",
        "#use syntax \"read(key_name)\"\r\n",
        "            \r\n",
        "def read(key):\r\n",
        "    if key not in d:\r\n",
        "        print(\"error: given key does not exist in database. Please enter a valid key\") #error message4\r\n",
        "    else:\r\n",
        "        b=d[key]\r\n",
        "        if b[1]!=0:\r\n",
        "            if time.time()<b[1]: #comparing the present time with expiry time\r\n",
        "                stri=str(key)+\":\"+str(b[0]) #to return the value in the format of JasonObject i.e.,\"key_name:value\"\r\n",
        "                return stri\r\n",
        "            else:\r\n",
        "                print(\"error: time-to-live of\",key,\"has expired\") #error message5\r\n",
        "        else:\r\n",
        "            stri=str(key)+\":\"+str(b[0])\r\n",
        "            return stri"
      ],
      "execution_count": 34,
      "outputs": []
    },
    {
      "cell_type": "code",
      "metadata": {
        "id": "_GtBcgF1sVXx"
      },
      "source": [
        "#for delete operation\r\n",
        "#use syntax \"delete(key_name)\"\r\n",
        "\r\n",
        "def delete(key):\r\n",
        "    if key not in d:\r\n",
        "        print(\"error: given key does not exist in database. Please enter a valid key\") #error message4\r\n",
        "    else:\r\n",
        "        b=d[key]\r\n",
        "        if b[1]!=0:\r\n",
        "            if time.time()<b[1]: #comparing the current time with expiry time\r\n",
        "                del d[key]\r\n",
        "                print(\"key is successfully deleted\")\r\n",
        "            else:\r\n",
        "                print(\"error: time-to-live of\",key,\"has expired\") #error message5\r\n",
        "        else:\r\n",
        "            del d[key]\r\n",
        "            print(\"key is successfully deleted\")"
      ],
      "execution_count": 35,
      "outputs": []
    },
    {
      "cell_type": "code",
      "metadata": {
        "id": "GTxbfn_hsYox"
      },
      "source": [
        "#for modify operation \r\n",
        "#use syntax \"modify(key_name,new_value)\"\r\n",
        "\r\n",
        "def modify(key,value):\r\n",
        "    b=d[key]\r\n",
        "    if b[1]!=0:\r\n",
        "        if time.time()<b[1]:\r\n",
        "            if key not in d:\r\n",
        "                print(\"error: given key does not exist in database. Please enter a valid key\") #error message6\r\n",
        "            else:\r\n",
        "                l=[]\r\n",
        "                l.append(value)\r\n",
        "                l.append(b[1])\r\n",
        "                d[key]=l\r\n",
        "        else:\r\n",
        "            print(\"error: time-to-live of\",key,\"has expired\") #error message5\r\n",
        "    else:\r\n",
        "        if key not in d:\r\n",
        "            print(\"error: given key does not exist in database. Please enter a valid key\") #error message6\r\n",
        "        else:\r\n",
        "            l=[]\r\n",
        "            l.append(value)\r\n",
        "            l.append(b[1])\r\n",
        "            d[key]=l"
      ],
      "execution_count": 36,
      "outputs": []
    },
    {
      "cell_type": "code",
      "metadata": {
        "id": "KaF3Q05WALGT"
      },
      "source": [
        "create(\"sastra\",25)\r\n",
        "#to create a key with key_name,value given and with no time-to-live property"
      ],
      "execution_count": 37,
      "outputs": []
    },
    {
      "cell_type": "code",
      "metadata": {
        "id": "nnwhWPTLD9Bg"
      },
      "source": [
        "create(\"src\",70,3600)\r\n",
        "#to create a key with key_name,value given and with time-to-live property value given(number of seconds)"
      ],
      "execution_count": 38,
      "outputs": []
    },
    {
      "cell_type": "code",
      "metadata": {
        "colab": {
          "base_uri": "https://localhost:8080/",
          "height": 35
        },
        "id": "VkGkw8LLEYtt",
        "outputId": "a89c7eff-bc88-42e6-d441-315ebc2ffb31"
      },
      "source": [
        "read(\"sastra\")\r\n",
        "#it returns the value of the respective key in Jasonobject format 'key_name:value'"
      ],
      "execution_count": 39,
      "outputs": [
        {
          "output_type": "execute_result",
          "data": {
            "application/vnd.google.colaboratory.intrinsic+json": {
              "type": "string"
            },
            "text/plain": [
              "'sastra:25'"
            ]
          },
          "metadata": {
            "tags": []
          },
          "execution_count": 39
        }
      ]
    },
    {
      "cell_type": "code",
      "metadata": {
        "colab": {
          "base_uri": "https://localhost:8080/",
          "height": 35
        },
        "id": "LI-1TmGAEfk6",
        "outputId": "50446162-10ce-42a4-b231-76cefe3923a6"
      },
      "source": [
        "read(\"src\")\r\n",
        "#it returns the value of the respective key in Jasonobject format if the TIME-TO-LIVE IS NOT EXPIRED else it returns an ERROR"
      ],
      "execution_count": 40,
      "outputs": [
        {
          "output_type": "execute_result",
          "data": {
            "application/vnd.google.colaboratory.intrinsic+json": {
              "type": "string"
            },
            "text/plain": [
              "'src:70'"
            ]
          },
          "metadata": {
            "tags": []
          },
          "execution_count": 40
        }
      ]
    },
    {
      "cell_type": "code",
      "metadata": {
        "colab": {
          "base_uri": "https://localhost:8080/"
        },
        "id": "hLucGy27Eucu",
        "outputId": "ce920d16-03af-47d9-f4b3-a9987b3b6671"
      },
      "source": [
        "create(\"sastra\",50)\r\n",
        "#it returns an ERROR since the key_name already exists in the database\r\n",
        "#To overcome this error \r\n",
        "#either use modify operation to change the value of a key\r\n",
        "#or use delete operation and recreate it"
      ],
      "execution_count": 41,
      "outputs": [
        {
          "output_type": "stream",
          "text": [
            "error: this key already exists\n"
          ],
          "name": "stdout"
        }
      ]
    },
    {
      "cell_type": "code",
      "metadata": {
        "id": "kACPGpwUE0pA"
      },
      "source": [
        "modify(\"sastra\",55)\r\n",
        "#it replaces the initial value of the respective key with new value "
      ],
      "execution_count": 42,
      "outputs": []
    },
    {
      "cell_type": "code",
      "metadata": {
        "colab": {
          "base_uri": "https://localhost:8080/"
        },
        "id": "lIRhYSyXE8he",
        "outputId": "b63b3178-18b0-498d-bb17-ca140715e3a9"
      },
      "source": [
        "delete(\"sastra\")\r\n",
        "#it deletes the respective key and its value from the database(memory is also freed)"
      ],
      "execution_count": 43,
      "outputs": [
        {
          "output_type": "stream",
          "text": [
            "key is successfully deleted\n"
          ],
          "name": "stdout"
        }
      ]
    },
    {
      "cell_type": "code",
      "metadata": {
        "id": "AvYkxj89FEpP"
      },
      "source": [
        ""
      ],
      "execution_count": 43,
      "outputs": []
    }
  ]
}